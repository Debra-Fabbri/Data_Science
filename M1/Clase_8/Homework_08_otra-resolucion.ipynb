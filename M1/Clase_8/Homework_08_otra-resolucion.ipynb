{
 "cells": [
  {
   "cell_type": "markdown",
   "metadata": {},
   "source": [
    "# Práctica Clase 8"
   ]
  },
  {
   "cell_type": "markdown",
   "metadata": {},
   "source": [
    "<h2>Algoritmos de Ordenamiento</h2>"
   ]
  },
  {
   "cell_type": "markdown",
   "metadata": {},
   "source": [
    "1) Dada la función provista 'ListaDesordenada' implementar los algoritmos de ordenamiento vistos en clase:\n",
    "<ul>\n",
    "    <ol>Selección</ol>\n",
    "    <ol>Burbuja</ol>\n",
    "</ul>"
   ]
  },
  {
   "cell_type": "markdown",
   "metadata": {},
   "source": [
    "http://lwh.free.fr/pages/algo/tri/tri_selection.html\n",
    "\n",
    "http://lwh.free.fr/pages/algo/tri/tri_bulle.html"
   ]
  },
  {
   "cell_type": "code",
   "execution_count": 1,
   "metadata": {},
   "outputs": [],
   "source": [
    "def ListaDesordenada(desorden, cantidad): \n",
    "    '''\n",
    "    Esta función devuelve una lista\n",
    "    desorden = es un porcentaje de desordenamiento\n",
    "    cantidad = cantidad de elementos de la lista\n",
    "    '''\n",
    "    import random as r\n",
    "    import numpy as np\n",
    "\n",
    "    lista = list(range(0, cantidad))\n",
    "\n",
    "    desorden = int(cantidad * desorden / 100)\n",
    "\n",
    "    while (desorden > 0):\n",
    "        i = r.randint(0,cantidad-1)\n",
    "        j = r.randint(0,cantidad-1)\n",
    "        aux = lista[i]\n",
    "        lista[i] = lista[j]\n",
    "        lista[j] = aux\n",
    "        desorden-=1\n",
    "\n",
    "    return lista"
   ]
  },
  {
   "cell_type": "code",
   "execution_count": 2,
   "metadata": {},
   "outputs": [
    {
     "data": {
      "text/plain": [
       "[10, 5, 11, 3, 19, 14, 17, 12, 9, 8, 0, 13, 18, 1, 2, 16, 7, 15, 6, 4]"
      ]
     },
     "execution_count": 2,
     "metadata": {},
     "output_type": "execute_result"
    }
   ],
   "source": [
    "ListaDesordenada(90, 20) #Lista de 20 elementos un 90% desordenada"
   ]
  },
  {
   "cell_type": "code",
   "execution_count": 16,
   "metadata": {},
   "outputs": [
    {
     "data": {
      "text/plain": [
       "[5, 1, 12, 3, 13, 16, 6, 7, 8, 10, 9, 11, 17, 2, 0, 15, 14, 4, 18, 19]"
      ]
     },
     "execution_count": 16,
     "metadata": {},
     "output_type": "execute_result"
    }
   ],
   "source": [
    "ListaDesordenada(50, 20) #Lista de 20 elementos un 50% desordenada"
   ]
  },
  {
   "cell_type": "code",
   "execution_count": 24,
   "metadata": {},
   "outputs": [
    {
     "data": {
      "text/plain": [
       "[0, 1, 2, 3, 4]"
      ]
     },
     "execution_count": 24,
     "metadata": {},
     "output_type": "execute_result"
    }
   ],
   "source": [
    "ListaDesordenada(0, 5) #Lista de 20 elementos un 0% desordenada"
   ]
  },
  {
   "cell_type": "code",
   "execution_count": 25,
   "metadata": {},
   "outputs": [],
   "source": [
    "def ord_por_seleccion(lista):\n",
    "    total_items = len(lista)\n",
    "    for i in range(total_items):\n",
    "        minimo = i\n",
    "        for j in range(i+1, total_items):\n",
    "            if lista[j] < lista[minimo]:\n",
    "                minimo  = j\n",
    "            if lista[i] > lista[minimo]:\n",
    "                aux = lista[i]\n",
    "                lista[i] = lista[minimo]\n",
    "                lista[minimo] = aux\n",
    "    return lista"
   ]
  },
  {
   "cell_type": "code",
   "execution_count": 31,
   "metadata": {},
   "outputs": [
    {
     "name": "stdout",
     "output_type": "stream",
     "text": [
      "[3, 1, 19, 10, 0, 5, 8, 7, 18, 16, 2, 11, 6, 14, 13, 15, 12, 17, 9, 4]\n"
     ]
    }
   ],
   "source": [
    "lis = ListaDesordenada(100, 20)\n",
    "print(lis)"
   ]
  },
  {
   "cell_type": "code",
   "execution_count": 32,
   "metadata": {},
   "outputs": [
    {
     "data": {
      "text/plain": [
       "[1, 3, 4, 0, 2, 5, 6, 7, 8, 9, 10, 12, 11, 14, 13, 15, 16, 17, 18, 19]"
      ]
     },
     "execution_count": 32,
     "metadata": {},
     "output_type": "execute_result"
    }
   ],
   "source": [
    "ord_por_seleccion(lis)"
   ]
  },
  {
   "cell_type": "code",
   "execution_count": 33,
   "metadata": {},
   "outputs": [],
   "source": [
    "def ord_por_burbujeo(lista):\n",
    "    total_items = len(lista) -1 \n",
    "    cambio = True\n",
    "    while cambio:\n",
    "        cambio = False\n",
    "        for i in range(len(lista)-1):\n",
    "            if lista[i] > lista[i+1]:\n",
    "                aux = lista[i]\n",
    "                lista[i] = lista[i+1]\n",
    "                lista[i+1] = aux\n",
    "                cambio = True\n",
    "\n",
    "    return lista"
   ]
  },
  {
   "cell_type": "code",
   "execution_count": 34,
   "metadata": {},
   "outputs": [
    {
     "name": "stdout",
     "output_type": "stream",
     "text": [
      "[2, 10, 18, 11, 17, 5, 6, 14, 12, 1, 4, 7, 0, 9, 8, 15, 3, 13, 16, 19]\n"
     ]
    }
   ],
   "source": [
    "lis = ListaDesordenada(100, 20)\n",
    "print(lis)"
   ]
  },
  {
   "cell_type": "code",
   "execution_count": 35,
   "metadata": {},
   "outputs": [
    {
     "data": {
      "text/plain": [
       "[0, 1, 2, 3, 4, 5, 6, 7, 8, 9, 10, 11, 12, 13, 14, 15, 16, 17, 18, 19]"
      ]
     },
     "execution_count": 35,
     "metadata": {},
     "output_type": "execute_result"
    }
   ],
   "source": [
    "ord_por_burbujeo(lis)"
   ]
  },
  {
   "cell_type": "markdown",
   "metadata": {},
   "source": [
    "2) Para las siguientes instancias, probar el tiempo de duración del ordenamiento de cada uno de los métodos"
   ]
  },
  {
   "cell_type": "code",
   "execution_count": 46,
   "metadata": {},
   "outputs": [],
   "source": [
    "import time"
   ]
  },
  {
   "cell_type": "code",
   "execution_count": 47,
   "metadata": {},
   "outputs": [
    {
     "name": "stdout",
     "output_type": "stream",
     "text": [
      "Llevo 0.0 segundos en total.\n"
     ]
    }
   ],
   "source": [
    "start_time_total = time.time()\n",
    "total_time_total = time.time() - start_time_total\n",
    "print(\"Llevo {} segundos en total.\".format(total_time_total))"
   ]
  },
  {
   "cell_type": "code",
   "execution_count": 48,
   "metadata": {},
   "outputs": [],
   "source": [
    "N = 5000"
   ]
  },
  {
   "cell_type": "code",
   "execution_count": 49,
   "metadata": {},
   "outputs": [],
   "source": [
    "lis1 = ListaDesordenada(100, N)\n",
    "lis2 = lis1.copy()\n",
    "lis3 = lis1.copy()"
   ]
  },
  {
   "cell_type": "code",
   "execution_count": 50,
   "metadata": {},
   "outputs": [
    {
     "data": {
      "text/plain": [
       "1736449068288"
      ]
     },
     "execution_count": 50,
     "metadata": {},
     "output_type": "execute_result"
    }
   ],
   "source": [
    "id(lis1)"
   ]
  },
  {
   "cell_type": "code",
   "execution_count": 51,
   "metadata": {},
   "outputs": [
    {
     "data": {
      "text/plain": [
       "1736985830144"
      ]
     },
     "execution_count": 51,
     "metadata": {},
     "output_type": "execute_result"
    }
   ],
   "source": [
    "id(lis2)"
   ]
  },
  {
   "cell_type": "code",
   "execution_count": 52,
   "metadata": {},
   "outputs": [
    {
     "data": {
      "text/plain": [
       "1736982483264"
      ]
     },
     "execution_count": 52,
     "metadata": {},
     "output_type": "execute_result"
    }
   ],
   "source": [
    "id(lis3)"
   ]
  },
  {
   "cell_type": "code",
   "execution_count": 53,
   "metadata": {},
   "outputs": [
    {
     "name": "stdout",
     "output_type": "stream",
     "text": [
      "Llevo 1.243114709854126 segundos en total.\n"
     ]
    }
   ],
   "source": [
    "start_time_total = time.time()\n",
    "lis1 = ord_por_burbujeo(lis1)\n",
    "total_time_total = time.time() - start_time_total\n",
    "print(\"Llevo {} segundos en total.\".format(total_time_total))"
   ]
  },
  {
   "cell_type": "code",
   "execution_count": 54,
   "metadata": {},
   "outputs": [
    {
     "name": "stdout",
     "output_type": "stream",
     "text": [
      "Llevo 0.7522964477539062 segundos en total.\n"
     ]
    }
   ],
   "source": [
    "start_time_total = time.time()\n",
    "lis2 = ord_por_seleccion(lis2)\n",
    "total_time_total = time.time() - start_time_total\n",
    "print(\"Llevo {} segundos en total.\".format(total_time_total))"
   ]
  },
  {
   "cell_type": "code",
   "execution_count": 55,
   "metadata": {},
   "outputs": [],
   "source": [
    "lis1 = ListaDesordenada(50, N)\n",
    "lis2 = lis1.copy()\n",
    "lis3 = lis1.copy()"
   ]
  },
  {
   "cell_type": "code",
   "execution_count": 58,
   "metadata": {},
   "outputs": [
    {
     "name": "stdout",
     "output_type": "stream",
     "text": [
      "Llevo 0.0 segundos en total.\n"
     ]
    }
   ],
   "source": [
    "start_time_total = time.time()\n",
    "lis1 = ord_por_burbujeo(lis1)\n",
    "total_time_total = time.time() - start_time_total\n",
    "print(\"Llevo {} segundos en total.\".format(total_time_total))"
   ]
  },
  {
   "cell_type": "code",
   "execution_count": 59,
   "metadata": {},
   "outputs": [
    {
     "name": "stdout",
     "output_type": "stream",
     "text": [
      "Llevo 0.7506382465362549 segundos en total.\n"
     ]
    }
   ],
   "source": [
    "start_time_total = time.time()\n",
    "lis2 = ord_por_seleccion(lis2)\n",
    "total_time_total = time.time() - start_time_total\n",
    "print(\"Llevo {} segundos en total.\".format(total_time_total))"
   ]
  },
  {
   "cell_type": "code",
   "execution_count": 61,
   "metadata": {},
   "outputs": [],
   "source": [
    "lis1 = ord_por_burbujeo(lis1)"
   ]
  },
  {
   "cell_type": "code",
   "execution_count": 62,
   "metadata": {},
   "outputs": [],
   "source": [
    "lis1.sort()"
   ]
  },
  {
   "cell_type": "code",
   "execution_count": 63,
   "metadata": {},
   "outputs": [
    {
     "data": {
      "text/plain": [
       "[0, 1, 2, 3, 4, 5, 6, 7, 8, 9, 10, 11]"
      ]
     },
     "execution_count": 63,
     "metadata": {},
     "output_type": "execute_result"
    }
   ],
   "source": [
    "lis1[0:12]"
   ]
  },
  {
   "cell_type": "code",
   "execution_count": 64,
   "metadata": {},
   "outputs": [],
   "source": [
    "lis1 = ListaDesordenada(0, N)\n",
    "lis2 = lis1.copy()\n",
    "lis3 = lis1.copy()"
   ]
  },
  {
   "cell_type": "code",
   "execution_count": 66,
   "metadata": {},
   "outputs": [
    {
     "name": "stdout",
     "output_type": "stream",
     "text": [
      "Llevo 0.7211301326751709 segundos en total.\n"
     ]
    }
   ],
   "source": [
    "start_time_total = time.time()\n",
    "lis2 = ord_por_seleccion(lis2)\n",
    "total_time_total = time.time() - start_time_total\n",
    "print(\"Llevo {} segundos en total.\".format(total_time_total))"
   ]
  },
  {
   "cell_type": "code",
   "execution_count": 65,
   "metadata": {},
   "outputs": [
    {
     "name": "stdout",
     "output_type": "stream",
     "text": [
      "Llevo 0.0009975433349609375 segundos en total.\n"
     ]
    }
   ],
   "source": [
    "start_time_total = time.time()\n",
    "lis1 = ord_por_burbujeo(lis1)\n",
    "total_time_total = time.time() - start_time_total\n",
    "print(\"Llevo {} segundos en total.\".format(total_time_total))"
   ]
  }
 ],
 "metadata": {
  "kernelspec": {
   "display_name": "Python 3.10.4 64-bit",
   "language": "python",
   "name": "python3"
  },
  "language_info": {
   "codemirror_mode": {
    "name": "ipython",
    "version": 3
   },
   "file_extension": ".py",
   "mimetype": "text/x-python",
   "name": "python",
   "nbconvert_exporter": "python",
   "pygments_lexer": "ipython3",
   "version": "3.10.4"
  },
  "vscode": {
   "interpreter": {
    "hash": "e593ac106456af50ce7af38f9671c411b49d6cd90f9b885e167f0f594e09038c"
   }
  }
 },
 "nbformat": 4,
 "nbformat_minor": 4
}
