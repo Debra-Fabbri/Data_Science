{
 "cells": [
  {
   "cell_type": "markdown",
   "metadata": {},
   "source": [
    "# Práctica Clase 7"
   ]
  },
  {
   "cell_type": "markdown",
   "metadata": {},
   "source": [
    "1) Diseñar una clase que permita trabajar con un árbol binario y que contenga los métodos:<br>\n",
    "    * insertaVal: para insertar un dato<br>\n",
    "    * buscaVal: que devuelva True o False si existe o no un dato<br>\n",
    "    * verVal: que imprima por pantalla los valores del árbol<br>\n",
    "\n",
    "Nota: Se puede utilizar la recursividad\n"
   ]
  },
  {
   "cell_type": "code",
   "execution_count": 1,
   "metadata": {},
   "outputs": [],
   "source": [
    "class Nodo():\n",
    "    def __init__(self, dato):\n",
    "        self.dato = dato\n",
    "        self.izq = None\n",
    "        self.der = None"
   ]
  },
  {
   "cell_type": "code",
   "execution_count": 2,
   "metadata": {},
   "outputs": [],
   "source": [
    "class Arbol():\n",
    "    def __init__(self):\n",
    "        self.raiz = None\n",
    "\n",
    "    def insertaVal(self, dato):\n",
    "        n = Nodo(dato)\n",
    "        if (self.raiz == None):\n",
    "            self.raiz = n\n",
    "        else:\n",
    "            puntero = self.raiz\n",
    "            if (puntero.izq == None):\n",
    "                puntero.izq = n\n",
    "            elif (puntero.der == None):\n",
    "                puntero.der = n"
   ]
  },
  {
   "cell_type": "code",
   "execution_count": 3,
   "metadata": {},
   "outputs": [],
   "source": [
    "a = Arbol()"
   ]
  },
  {
   "cell_type": "code",
   "execution_count": 4,
   "metadata": {},
   "outputs": [],
   "source": [
    "a.insertaVal(2)\n",
    "a.insertaVal(7)"
   ]
  },
  {
   "cell_type": "markdown",
   "metadata": {},
   "source": [
    "1)\n"
   ]
  },
  {
   "cell_type": "code",
   "execution_count": 5,
   "metadata": {},
   "outputs": [],
   "source": [
    "#Creamos el nodo nuevo\n",
    "class Nodo():\n",
    "    def __init__ (self,dato):\n",
    "        self.dato = dato\n",
    "        self.izq = None\n",
    "        self.der = None"
   ]
  },
  {
   "cell_type": "code",
   "execution_count": 6,
   "metadata": {},
   "outputs": [],
   "source": [
    "#Creamos la clase árbol\n",
    "class arbol():\n",
    "    def __init__ (self, dato):\n",
    "        self.raiz = Nodo(dato)\n",
    "\n",
    "#Creamos la función privada insertaVal, que agrega un Nodo con el valor del dato que le indicamos y lo acomoda por izq o der según corresponda.\n",
    "    def __insertaVal(self, nodo, dato):\n",
    "        if dato < nodo.dato:\n",
    "            if nodo.izq is None:\n",
    "                nodo.izq = Nodo(dato)\n",
    "            else:\n",
    "                self.__insertaVal(nodo.izq,dato)\n",
    "\n",
    "        if dato > nodo.dato:\n",
    "            if nodo.der is None:\n",
    "                nodo.der = Nodo(dato)\n",
    "            else:\n",
    "                self.__insertaVal(nodo.der,dato)\n",
    "\n",
    "#Creamos la función privada buscaVal, que recibe un dato y verifica que sea igual al nodo en el que nos encontramos, en ese caso devuelve True,\n",
    "#Sino, se fija si el valor buscado es menor o mayor al nodo en el que nos encontramos para saber si continúa buscando por izq o por derecha.\n",
    "    def __buscaVal(self, nodo, buscado):\n",
    "        if nodo is None:\n",
    "            return False\n",
    "        elif nodo.dato == buscado:\n",
    "            return True\n",
    "        elif nodo.dato < buscado:\n",
    "            return self.__buscaVal(nodo.der, buscado)\n",
    "        else:\n",
    "            return self.__buscaVal(nodo.izq, buscado)\n",
    "\n",
    "#Creamos la función privada verVal, que analiza cada nodo del árbol, hace un print y pasa al o los siguientes nodos utilizando recursividad.\n",
    "    def __verVal(self, nodo):\n",
    "        if nodo is not None:\n",
    "            print(nodo.dato, end = \", \")\n",
    "            self.__verVal(nodo.izq)\n",
    "            self.__verVal(nodo.der)\n",
    "\n",
    "#A partir de acá empiezan las funciones públicas\n",
    "\n",
    "#Creamos la función pública insertaVal, que llama a la función privada para crear un nodo con el dato que se le pasa       \n",
    "    def insertaVal(self, dato):\n",
    "        self.__insertaVal(self.raiz, dato)\n",
    "\n",
    "#Creamos la función pública buscaVal, que llama a la función privada para buscar un valor en el nodo analizado, si no lo encuentra, continúa buscándolo\n",
    "#usando recursividad\n",
    "    def buscaVal(self, busqueda):\n",
    "        i = self.__buscaVal(self.raiz, busqueda)\n",
    "        if i:\n",
    "            print(f\"Se encontro {busqueda} en el árbol.\")\n",
    "        else:\n",
    "            print(f\"No se encontró {busqueda} en el árbol.\")\n",
    "\n",
    "#Creamos la función pública verVal, que llama a la función privada para hacer un print de todo el árbol\n",
    "    def verVal(self):\n",
    "        print(\"Ordenados del que primero ingresó al último -->\\n\")\n",
    "        self.__verVal(self.raiz)\n",
    "        print(\"\")\n"
   ]
  },
  {
   "cell_type": "code",
   "execution_count": 7,
   "metadata": {},
   "outputs": [],
   "source": [
    "arbol_facha = arbol(100)"
   ]
  },
  {
   "cell_type": "code",
   "execution_count": 8,
   "metadata": {},
   "outputs": [],
   "source": [
    "arbol_facha.insertaVal(90)\n",
    "arbol_facha.insertaVal(80)\n",
    "arbol_facha.insertaVal(200)\n",
    "arbol_facha.insertaVal(190)\n",
    "arbol_facha.insertaVal(1980)\n",
    "arbol_facha.insertaVal(10)\n",
    "arbol_facha.insertaVal(120)\n",
    "arbol_facha.insertaVal(2000)\n",
    "arbol_facha.insertaVal(85)\n",
    "arbol_facha.insertaVal(1900)"
   ]
  },
  {
   "cell_type": "code",
   "execution_count": 9,
   "metadata": {},
   "outputs": [
    {
     "name": "stdout",
     "output_type": "stream",
     "text": [
      "Ordenados del que primero ingresó al último -->\n",
      "\n",
      "100, 90, 80, 10, 85, 200, 190, 120, 1980, 1900, 2000, \n"
     ]
    }
   ],
   "source": [
    "arbol_facha.verVal()"
   ]
  }
 ],
 "metadata": {
  "kernelspec": {
   "display_name": "Python 3.10.5 64-bit",
   "language": "python",
   "name": "python3"
  },
  "language_info": {
   "codemirror_mode": {
    "name": "ipython",
    "version": 3
   },
   "file_extension": ".py",
   "mimetype": "text/x-python",
   "name": "python",
   "nbconvert_exporter": "python",
   "pygments_lexer": "ipython3",
   "version": "3.10.5"
  },
  "vscode": {
   "interpreter": {
    "hash": "c63d8c7d738c2960218a10995aedf0a7f67a49a231e71037adf0440953cdb45b"
   }
  }
 },
 "nbformat": 4,
 "nbformat_minor": 4
}
