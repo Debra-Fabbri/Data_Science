{
 "cells": [
  {
   "cell_type": "markdown",
   "metadata": {},
   "source": [
    "# Práctica Clase 5"
   ]
  },
  {
   "cell_type": "markdown",
   "metadata": {},
   "source": [
    "1) Implementar un juego, que consista en apilar números enteros del 1 al 20, de forma aleatoria, para lo cual debe usarse una estructura de Pila. \n",
    "Luego, el usuario debe elegir un número de veces en que se va a quitar elementos de la pila, los cuales, sumados entre sí, no deben superar el valor de 50.\n",
    "El usuario pierde si la suma supera ese valor. Si no lo supera, gana, pero su calificación será 10 menos el número elementos que falten quitar para todavía no superar 50.\n",
    "El programa debe informar si perdió, y si ganó, con qué calificación lo hizo.\n",
    "\n",
    "Consideraciones:<br>\n",
    "a. Se puede usar la función input() para obtener una entrada de teclado.<br>\n",
    "b. Se puede usar la el modulo random para obtener valores aleatorios."
   ]
  },
  {
   "cell_type": "code",
   "execution_count": 1,
   "metadata": {},
   "outputs": [],
   "source": [
    "# Opción 1\n",
    "import numpy as np\n",
    "\n",
    "class Juego_Pilas:\n",
    "    def __init__(self):\n",
    "        self.__list = []\n",
    "    \n",
    "    def crear_Pila(self):\n",
    "        self.numeros = []\n",
    "        self.numeros = np.arange(1,21)\n",
    "        np.random.shuffle(self.numeros)\n",
    "        self.numeros = list(self.numeros)\n",
    "        print('La pila es:',self.numeros)\n",
    "    \n",
    "    def suma_Elementos(self, elementos):\n",
    "        self.i = 1\n",
    "        self.suma = 0\n",
    "        while (self.i <= elementos):\n",
    "            self.suma += self.numeros.pop()\n",
    "            self.i+=1\n",
    "        return self.suma\n",
    "    \n",
    "    def puntaje(self, resultado):\n",
    "        self.puntos = 10\n",
    "        self.sum_resultado = self.resultado \n",
    "        while (self.sum_resultado <= 50):\n",
    "            self.sum_resultado += self.numeros.pop()\n",
    "            self.puntos = self.puntos - 1\n",
    "    \n",
    "        if (self.sum_resultado > 50):\n",
    "            return (self.puntos + 1)\n",
    "        else: \n",
    "            return (self.puntos)\n",
    "\n",
    "    def jugar(self):\n",
    "        self.crear_Pila()\n",
    "        \n",
    "        print('Indique cantidad de elementos a sacar: ')\n",
    "        self.cantidad_elementos = int(input())\n",
    "        \n",
    "        print('Se sacarán ',self.cantidad_elementos,' elementos')\n",
    "        \n",
    "        self.resultado = self.suma_Elementos(self.cantidad_elementos)\n",
    "        \n",
    "        if (self.resultado > 50):\n",
    "            print('Perdiste, tus números suman', self.resultado)\n",
    "        else:\n",
    "            print('Ganaste con un resultado de ',self.resultado, 'teniendo un puntaje de ',self.puntaje(self.resultado))"
   ]
  },
  {
   "cell_type": "code",
   "execution_count": 2,
   "metadata": {},
   "outputs": [
    {
     "name": "stdout",
     "output_type": "stream",
     "text": [
      "La pila es: [8, 5, 19, 3, 11, 18, 4, 7, 17, 16, 14, 2, 15, 10, 1, 9, 6, 20, 12, 13]\n",
      "Indique cantidad de elementos a sacar: \n",
      "Se sacarán  8  elementos\n",
      "Perdiste, tus números suman 86\n"
     ]
    }
   ],
   "source": [
    "j = Juego_Pilas()\n",
    "j.jugar()"
   ]
  },
  {
   "cell_type": "code",
   "execution_count": 3,
   "metadata": {},
   "outputs": [],
   "source": [
    "# Opción 2\n",
    "import random as r\n",
    "\n",
    "class Juego_Pila(object):\n",
    "    def __init__(self):\n",
    "        self.__list = []\n",
    "        \n",
    "    def crearPila(self):\n",
    "        self.__list = list(range(1,21))\n",
    "\n",
    "    def jugar(self):\n",
    "        self.crearPila()\n",
    "        self.__desordenarPilaAleatorio()\n",
    "        calificacion = 10\n",
    "        nro = 20\n",
    "        lista_esperados = ['1','2','3','4','5','6','7','8','9','10','11','12','13','14','15','16','17','18','19']\n",
    "        while (nro > 19):\n",
    "            nro = input('Ingresar la cantidad de elementos:')\n",
    "            if (nro not in lista_esperados):\n",
    "                nro = 20\n",
    "            else:\n",
    "                nro = int(nro)\n",
    "        print('Pila Original:')\n",
    "        self.__mostrarPila()\n",
    "        suma = 0\n",
    "        while (nro > 0):\n",
    "            suma += self.__pop()\n",
    "            nro-= 1\n",
    "\n",
    "        print('Pila Obtenida:')\n",
    "        self.__mostrarPila()\n",
    "        nro = self.__size()\n",
    "        print('Con esa cantidad de elementos se sumó:', suma)\n",
    "        if(suma > 50):\n",
    "            print('No se cumplió el objetivo')\n",
    "        else:\n",
    "            while(suma <= 50):\n",
    "                suma += self.__pop()\n",
    "                if (suma <= 50):\n",
    "                    calificacion-=1\n",
    "            print('objetivo cumplido!!! Calificacion:', calificacion)\n",
    "        \n",
    "    def __desordenarPilaAleatorio(self):\n",
    "        for i in range(0,20):\n",
    "            aux = self.__list[i]\n",
    "            i_rand = r.randint(0,19)\n",
    "            self.__list[i] = self.__list[i_rand]\n",
    "            self.__list[i_rand] = aux\n",
    "\n",
    "    def __mostrarPila(self):\n",
    "        print(self.__list)\n",
    "\n",
    "    # Quitar un elemento de la Pila\n",
    "    def __pop(self):\n",
    "        return self.__list.pop()\n",
    "\n",
    "    # Devuelve el número de elementos en la Pila\n",
    "    def __size(self):\n",
    "         return len(self.__list)"
   ]
  },
  {
   "cell_type": "code",
   "execution_count": 4,
   "metadata": {},
   "outputs": [
    {
     "name": "stdout",
     "output_type": "stream",
     "text": [
      "Pila Original:\n",
      "[9, 18, 12, 11, 16, 13, 2, 1, 19, 3, 17, 6, 4, 5, 20, 14, 15, 8, 7, 10]\n",
      "Pila Obtenida:\n",
      "[9, 18, 12, 11, 16, 13, 2, 1, 19, 3, 17, 6, 4]\n",
      "Con esa cantidad de elementos se sumó: 79\n",
      "No se cumplió el objetivo\n"
     ]
    }
   ],
   "source": [
    "j = Juego_Pila()\n",
    "j.jugar()"
   ]
  },
  {
   "cell_type": "markdown",
   "metadata": {},
   "source": [
    "2) Implementar un juego donde constas de 2 jarras, de capacidad 5 y 3 litros respectivamente, y debes colocar 4 litros en la jarra de 5L.\n",
    "Las opciones posibles son:\n",
    "* Llenar la jarra de 3 litros\n",
    "* Llenar la jarra de 5 litros\n",
    "* Vaciar la jarra de 3 litros\n",
    "* Vaciar la jarra de 5 litros\n",
    "* Verter el contenido de la jarra de 3 litros en la de 5 litros\n",
    "* Verter el contenido de la jarra de 5 litros en la de 3 litros"
   ]
  },
  {
   "cell_type": "code",
   "execution_count": 67,
   "metadata": {},
   "outputs": [],
   "source": [
    "class Juego_Jarra():\n",
    "    def __init__(self):\n",
    "        self.__jarra5 = 0\n",
    "        self.__jarra3 = 0\n",
    "\n",
    "    def llenar(self, jarra):\n",
    "        if jarra == 3:\n",
    "            if self.__jarra3 != 0:\n",
    "                print(\"La jarra de 3 lts ya está llena!\")\n",
    "            else:    \n",
    "                self.__jarra3 = 3\n",
    "                print(\"Jarra de 3 lts llenada.\")\n",
    "        elif jarra == 5:\n",
    "            if self.__jarra5 != 0:\n",
    "                print(\"La jarra de 5 lts ya está llena!\")\n",
    "            else:\n",
    "                self.__jarra5 = 5\n",
    "                print(\"Jarra de 5 lts llenada.\")\n",
    "        else:\n",
    "            print(\"Indique si quiere llenar la jarra 3 o la jarra 5 (ingrese el número)\")\n",
    "    \n",
    "    def vaciar(self,jarra):\n",
    "        if jarra == 3:\n",
    "            if self.__jarra3 == 0:\n",
    "                print(\"La jarra de 3 lts ya está vacía!\")\n",
    "            else:    \n",
    "                self.__jarra3 = 0\n",
    "                print(\"Jarra de 3 lts vaciada.\")\n",
    "        elif jarra == 5:\n",
    "            if self.__jarra5 == 0:\n",
    "                print(\"La jarra de 5 lts ya está vacía!\")\n",
    "            else:\n",
    "                self.__jarra5 = 0\n",
    "                print(\"Jarra de 5 lts vaciada.\")\n",
    "        else:\n",
    "            print(\"Indique si quiere vaciar la jarra 3 o la jarra 5 (ingrese el número)\")\n",
    "\n",
    "    def consultar(self):\n",
    "        print (f\"En la jarra 3 hay {self.__jarra3} lts y en la jarra 5 hay {self.__jarra5} lts.\") \n",
    "    \n",
    "    def verter (self,jarra):\n",
    "        if jarra == 3:\n",
    "            if self.__jarra5 == 0:\n",
    "                self.__jarra5 += self.__jarra3\n",
    "                self.__jarra3 = 0\n",
    "            else:\n",
    "                while (self.__jarra3 != 0 and self.__jarra5 < 5):\n",
    "                    self.__jarra5 += 1\n",
    "                    self.__jarra3 -= 1\n",
    "\n",
    "        elif jarra == 5:\n",
    "            if self.__jarra5 == 0:\n",
    "                pass\n",
    "            else:\n",
    "                while self.__jarra5 != 0 and self.__jarra3 < 3:\n",
    "                    self.__jarra3 += 1\n",
    "                    self.__jarra5 -= 1\n",
    "        print(f\"Ahora la jarra 3 tiene {self.__jarra3} lts y la jarra 5 tiene {self.__jarra5} lts.\")"
   ]
  },
  {
   "cell_type": "markdown",
   "metadata": {},
   "source": [
    "#### Solución 1:\n",
    "\n",
    "– Llena la de 3 litros y vacíala en la de 5 litros. \n",
    "\n",
    "– Vuelve a llenar la de 3 litros. Vacíala en la de 5 litros.\n",
    "\n",
    "– Ahora te queda 1 litro en la de 3.\n",
    "\n",
    "– Tira todo lo que había en la de 5 litros.\n",
    "\n",
    "– Pasa el litro de la de 3 a la de 5 litros que ahora está vacía.\n",
    "\n",
    "– Ahora vuelve a llenar la de 3 litros y anádelo al litro que había en la de 5."
   ]
  },
  {
   "cell_type": "code",
   "execution_count": 68,
   "metadata": {},
   "outputs": [
    {
     "name": "stdout",
     "output_type": "stream",
     "text": [
      "Jarra de 3 lts llenada.\n",
      "Ahora la jarra 3 tiene 0 lts y la jarra 5 tiene 3 lts.\n",
      "Jarra de 3 lts llenada.\n",
      "Ahora la jarra 3 tiene 1 lts y la jarra 5 tiene 5 lts.\n",
      "Jarra de 5 lts vaciada.\n",
      "Ahora la jarra 3 tiene 0 lts y la jarra 5 tiene 1 lts.\n",
      "Jarra de 3 lts llenada.\n",
      "Ahora la jarra 3 tiene 0 lts y la jarra 5 tiene 4 lts.\n"
     ]
    }
   ],
   "source": [
    "j = Juego_Jarra()\n",
    "j.llenar(3)\n",
    "j.verter(3)\n",
    "j.llenar(3)\n",
    "j.verter(3)\n",
    "j.vaciar(5)\n",
    "j.verter(3)\n",
    "j.llenar(3)\n",
    "j.verter(3)"
   ]
  },
  {
   "cell_type": "markdown",
   "metadata": {},
   "source": [
    "#### Solución 2\n",
    "\n",
    "– Llena la de 5 litros. Vacíala en la de 3 litros. Eso hace que queden 2 en la de 5 litros.\n",
    "\n",
    "– Tira lo que haya en la de 3 y pasa esos 2 que quedaban.\n",
    "\n",
    "– Rellena de nuevo la de 5 litros. Con ella, rellena hasta el tope la de 3. Así quedan 4 litros en la de 5."
   ]
  },
  {
   "cell_type": "code",
   "execution_count": 71,
   "metadata": {},
   "outputs": [
    {
     "name": "stdout",
     "output_type": "stream",
     "text": [
      "Jarra de 5 lts llenada.\n",
      "Ahora la jarra 3 tiene 3 lts y la jarra 5 tiene 2 lts.\n",
      "Jarra de 3 lts vaciada.\n",
      "Ahora la jarra 3 tiene 2 lts y la jarra 5 tiene 0 lts.\n",
      "Jarra de 5 lts llenada.\n",
      "Ahora la jarra 3 tiene 3 lts y la jarra 5 tiene 4 lts.\n"
     ]
    }
   ],
   "source": [
    "j = Juego_Jarra()\n",
    "j.llenar(5)\n",
    "j.verter(5)\n",
    "j.vaciar(3)\n",
    "j.verter(5)\n",
    "j.llenar(5)\n",
    "j.verter(5)"
   ]
  }
 ],
 "metadata": {
  "kernelspec": {
   "display_name": "Python 3.10.5 64-bit",
   "language": "python",
   "name": "python3"
  },
  "language_info": {
   "codemirror_mode": {
    "name": "ipython",
    "version": 3
   },
   "file_extension": ".py",
   "mimetype": "text/x-python",
   "name": "python",
   "nbconvert_exporter": "python",
   "pygments_lexer": "ipython3",
   "version": "3.10.5"
  },
  "vscode": {
   "interpreter": {
    "hash": "c63d8c7d738c2960218a10995aedf0a7f67a49a231e71037adf0440953cdb45b"
   }
  }
 },
 "nbformat": 4,
 "nbformat_minor": 4
}
